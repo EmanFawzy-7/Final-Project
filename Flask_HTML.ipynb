{
  "cells": [
    {
      "cell_type": "code",
      "execution_count": 1,
      "metadata": {
        "colab": {
          "base_uri": "https://localhost:8080/"
        },
        "id": "tHbT8n5zmYE2",
        "outputId": "e77f0672-bb1a-4960-92d3-f218d8d0ee30"
      },
      "outputs": [],
      "source": [
        "# !pip install flask\n",
        "# !pip install --upgrade gevent"
      ]
    },
    {
      "cell_type": "code",
      "execution_count": 7,
      "metadata": {},
      "outputs": [],
      "source": [
        "import numpy as np\n",
        "import pandas as pd\n",
        "from sklearn.model_selection import train_test_split\n",
        "from sklearn.linear_model import LogisticRegression\n",
        "from sklearn.preprocessing import StandardScaler\n",
        "from sklearn.metrics import log_loss\n",
        "from sklearn.model_selection import StratifiedKFold\n"
      ]
    },
    {
      "cell_type": "code",
      "execution_count": 20,
      "metadata": {},
      "outputs": [
        {
          "name": "stdout",
          "output_type": "stream",
          "text": [
            "Training Log Loss:  0.11025046039889204\n",
            "CV Log Loss:  0.10848572064347986\n",
            "Training Log Loss:  0.10352520264994451\n",
            "CV Log Loss:  0.10242304587867627\n",
            "Training Log Loss:  0.11536522142475307\n",
            "CV Log Loss:  0.11885175956282508\n",
            "Training Log Loss:  0.11527942541807791\n",
            "CV Log Loss:  0.11806537120578031\n",
            "Training Log Loss:  0.09603773575352166\n",
            "CV Log Loss:  0.09695545828580006\n",
            "Logistic Regression Log Loss:  0.10895627111531231\n"
          ]
        }
      ],
      "source": [
        "df = pd.read_csv(\"creditcard.csv\")\n",
        "df['Hours'] = pd.to_datetime(df['Time'],unit='s').dt.strftime('%H')\n",
        "dataX = df.copy().drop(\"Class\",axis = 1)\n",
        "dataY = df[\"Class\"].copy()\n",
        "features_to_scale = dataX.drop([\"Time\"],axis = 1).columns\n",
        "sX = StandardScaler()\n",
        "dataX.loc[:,features_to_scale] = sX.fit_transform(dataX[features_to_scale])\n",
        "X_train, X_test, y_train, y_test = train_test_split(dataX, dataY, test_size = 0.33, random_state = 2018, stratify = dataY)\n",
        "k_fold = StratifiedKFold(n_splits=5, random_state= 2018, shuffle= True)\n",
        "\n",
        "#..........................................Base Model.......................................\n",
        "#set hyper parameters\n",
        "penalty = 'l2'\n",
        "C = 1.0\n",
        "class_weight = 'balanced'\n",
        "random_state = 2018\n",
        "solver = 'liblinear'\n",
        "\n",
        "logreg = LogisticRegression(penalty= penalty, class_weight= class_weight,\n",
        "                            random_state= random_state, solver = solver, C=C)\n",
        "#...........................................................................................\n",
        "trainingScores = []\n",
        "cvScores = []\n",
        "predictionsBasedOnKFolds = pd.DataFrame(data=[],\n",
        "index=y_train.index,columns=[0,1])\n",
        "model = logreg\n",
        "\n",
        "for train_index, cv_index in k_fold.split(np.zeros(len(X_train))\n",
        "    ,y_train.ravel()):\n",
        "    \n",
        "    \n",
        "    X_train_fold, X_cv_fold = X_train.iloc[train_index,:], \\\n",
        "    X_train.iloc[cv_index,:]\n",
        "    y_train_fold, y_cv_fold = y_train.iloc[train_index], \\\n",
        "    y_train.iloc[cv_index]\n",
        "    \n",
        "    model.fit(X_train_fold, y_train_fold)\n",
        "    \n",
        "    loglossTraining = log_loss(y_train_fold,\n",
        "                            model.predict_proba(X_train_fold)[:,1])\n",
        "    \n",
        "    trainingScores.append(loglossTraining)\n",
        "    \n",
        "    predictionsBasedOnKFolds.loc[X_cv_fold.index,:] = \\\n",
        "        model.predict_proba(X_cv_fold)\n",
        "    loglossCV = log_loss(y_cv_fold,\n",
        "                         predictionsBasedOnKFolds.loc[X_cv_fold.index,1])\n",
        "    \n",
        "    cvScores.append(loglossCV)\n",
        "    print('Training Log Loss: ', loglossTraining)\n",
        "    print('CV Log Loss: ', loglossCV)\n",
        "    \n",
        "loglossLogisticRegression = log_loss(y_train,\n",
        "predictionsBasedOnKFolds.loc[:,1])\n",
        "print('Logistic Regression Log Loss: ', loglossLogisticRegression)\n",
        "\n"
      ]
    },
    {
      "cell_type": "code",
      "execution_count": 22,
      "metadata": {},
      "outputs": [],
      "source": [
        "import pickle\n",
        "pickle.dump(model , open('base_model.pkl','wb'))"
      ]
    },
    {
      "cell_type": "code",
      "execution_count": 23,
      "metadata": {},
      "outputs": [
        {
          "name": "stdout",
          "output_type": "stream",
          "text": [
            "0    91625\n",
            "1     2362\n",
            "Name: Prediction, dtype: int64\n"
          ]
        },
        {
          "data": {
            "text/html": [
              "<div>\n",
              "<style scoped>\n",
              "    .dataframe tbody tr th:only-of-type {\n",
              "        vertical-align: middle;\n",
              "    }\n",
              "\n",
              "    .dataframe tbody tr th {\n",
              "        vertical-align: top;\n",
              "    }\n",
              "\n",
              "    .dataframe thead th {\n",
              "        text-align: right;\n",
              "    }\n",
              "</style>\n",
              "<table border=\"1\" class=\"dataframe\">\n",
              "  <thead>\n",
              "    <tr style=\"text-align: right;\">\n",
              "      <th></th>\n",
              "      <th>Time</th>\n",
              "      <th>V1</th>\n",
              "      <th>V2</th>\n",
              "      <th>V3</th>\n",
              "      <th>V4</th>\n",
              "      <th>V5</th>\n",
              "      <th>V6</th>\n",
              "      <th>V7</th>\n",
              "      <th>V8</th>\n",
              "      <th>V9</th>\n",
              "      <th>...</th>\n",
              "      <th>V22</th>\n",
              "      <th>V23</th>\n",
              "      <th>V24</th>\n",
              "      <th>V25</th>\n",
              "      <th>V26</th>\n",
              "      <th>V27</th>\n",
              "      <th>V28</th>\n",
              "      <th>Amount</th>\n",
              "      <th>Hours</th>\n",
              "      <th>Prediction</th>\n",
              "    </tr>\n",
              "  </thead>\n",
              "  <tbody>\n",
              "    <tr>\n",
              "      <th>67353</th>\n",
              "      <td>52490.0</td>\n",
              "      <td>0.600923</td>\n",
              "      <td>-0.971676</td>\n",
              "      <td>0.077752</td>\n",
              "      <td>-0.889221</td>\n",
              "      <td>-1.099568</td>\n",
              "      <td>-0.260433</td>\n",
              "      <td>-0.655304</td>\n",
              "      <td>-0.060183</td>\n",
              "      <td>-1.682563</td>\n",
              "      <td>...</td>\n",
              "      <td>-0.823788</td>\n",
              "      <td>-0.220612</td>\n",
              "      <td>-0.021329</td>\n",
              "      <td>0.699351</td>\n",
              "      <td>-0.550067</td>\n",
              "      <td>-0.016426</td>\n",
              "      <td>0.097134</td>\n",
              "      <td>0.349234</td>\n",
              "      <td>-0.007963</td>\n",
              "      <td>0</td>\n",
              "    </tr>\n",
              "    <tr>\n",
              "      <th>67626</th>\n",
              "      <td>52625.0</td>\n",
              "      <td>-1.706842</td>\n",
              "      <td>-2.645103</td>\n",
              "      <td>0.971504</td>\n",
              "      <td>-1.579282</td>\n",
              "      <td>0.183585</td>\n",
              "      <td>-0.114004</td>\n",
              "      <td>0.102960</td>\n",
              "      <td>-0.263008</td>\n",
              "      <td>1.534994</td>\n",
              "      <td>...</td>\n",
              "      <td>0.119220</td>\n",
              "      <td>2.496674</td>\n",
              "      <td>-1.283316</td>\n",
              "      <td>1.380894</td>\n",
              "      <td>0.184575</td>\n",
              "      <td>-1.064427</td>\n",
              "      <td>0.702734</td>\n",
              "      <td>0.676278</td>\n",
              "      <td>-0.007963</td>\n",
              "      <td>0</td>\n",
              "    </tr>\n",
              "  </tbody>\n",
              "</table>\n",
              "<p>2 rows × 32 columns</p>\n",
              "</div>"
            ],
            "text/plain": [
              "          Time        V1        V2        V3        V4        V5        V6  \\\n",
              "67353  52490.0  0.600923 -0.971676  0.077752 -0.889221 -1.099568 -0.260433   \n",
              "67626  52625.0 -1.706842 -2.645103  0.971504 -1.579282  0.183585 -0.114004   \n",
              "\n",
              "             V7        V8        V9  ...       V22       V23       V24  \\\n",
              "67353 -0.655304 -0.060183 -1.682563  ... -0.823788 -0.220612 -0.021329   \n",
              "67626  0.102960 -0.263008  1.534994  ...  0.119220  2.496674 -1.283316   \n",
              "\n",
              "            V25       V26       V27       V28    Amount     Hours  Prediction  \n",
              "67353  0.699351 -0.550067 -0.016426  0.097134  0.349234 -0.007963           0  \n",
              "67626  1.380894  0.184575 -1.064427  0.702734  0.676278 -0.007963           0  \n",
              "\n",
              "[2 rows x 32 columns]"
            ]
          },
          "execution_count": 23,
          "metadata": {},
          "output_type": "execute_result"
        }
      ],
      "source": [
        "base_model = pickle.load(open('base_model.pkl','rb'))\n",
        "y_predict = base_model.predict(X_test)\n",
        "test_data = X_test.copy()\n",
        "test_data['Prediction'] = y_predict\n",
        "print(test_data['Prediction'].value_counts())\n",
        "test_data.head(2)"
      ]
    },
    {
      "cell_type": "code",
      "execution_count": 2,
      "metadata": {
        "colab": {
          "base_uri": "https://localhost:8080/"
        },
        "id": "lT3QNTm4uyNV",
        "outputId": "035892a2-99c8-4adb-9fa9-dcf05ef9e31e"
      },
      "outputs": [],
      "source": [
        "from flask import Flask, render_template, request, jsonify\n"
      ]
    },
    {
      "cell_type": "code",
      "execution_count": null,
      "metadata": {},
      "outputs": [],
      "source": [
        "app = Flask(__name__)\n",
        "# @app.route('/predict',methods=['POST'])\n",
        "# def predict():\n",
        "#     features = np.array( [int(x) for x in request.form.values()] )\n",
        "#     prediction = base_model.predict(features)\n",
        "#     return render_template('index.html',prediction_in_html = f'{prediction}')\n",
        "\n",
        "\n"
      ]
    },
    {
      "cell_type": "code",
      "execution_count": 5,
      "metadata": {
        "colab": {
          "base_uri": "https://localhost:8080/",
          "height": 590
        },
        "id": "xCpV5ryUwLA-",
        "outputId": "6047ff3e-e4e5-45a2-fcd8-2dece86cec94"
      },
      "outputs": [
        {
          "name": "stdout",
          "output_type": "stream",
          "text": [
            " * Serving Flask app \"__main__\" (lazy loading)\n",
            " * Environment: production\n",
            "   WARNING: This is a development server. Do not use it in a production deployment.\n",
            "   Use a production WSGI server instead.\n",
            " * Debug mode: off\n"
          ]
        },
        {
          "name": "stderr",
          "output_type": "stream",
          "text": [
            " * Running on http://127.0.0.1:5000/ (Press CTRL+C to quit)\n",
            "127.0.0.1 - - [25/Nov/2021 22:57:00] \"\u001b[37mGET / HTTP/1.1\u001b[0m\" 200 -\n",
            "127.0.0.1 - - [25/Nov/2021 22:57:01] \"\u001b[33mGET /favicon.ico HTTP/1.1\u001b[0m\" 404 -\n"
          ]
        }
      ],
      "source": [
        "\n",
        "@app.route(\"/\")\n",
        "def hello(): \n",
        "  return \"Hello World\"\n",
        "  #return render_template('index.html')\n",
        "app.run()\n",
        "\n",
        "# import portpicker\n",
        "# port = portpicker.pick_unused_port()\n",
        "# from google.colab import output\n",
        "# output.serve_kernel_port_as_window(port)\n",
        "\n",
        "# from gevent.pywsgi import WSGIServer\n",
        "# host='localhost'\n",
        "# app_server = WSGIServer((host, port), app)\n",
        "# app_server.serve_forever()"
      ]
    },
    {
      "cell_type": "code",
      "execution_count": null,
      "metadata": {},
      "outputs": [],
      "source": []
    }
  ],
  "metadata": {
    "colab": {
      "name": "Flask HTML.ipynb",
      "provenance": []
    },
    "kernelspec": {
      "display_name": "Python 3",
      "name": "python3"
    },
    "language_info": {
      "codemirror_mode": {
        "name": "ipython",
        "version": 3
      },
      "file_extension": ".py",
      "mimetype": "text/x-python",
      "name": "python",
      "nbconvert_exporter": "python",
      "pygments_lexer": "ipython3",
      "version": "3.8.5"
    }
  },
  "nbformat": 4,
  "nbformat_minor": 0
}
